{
  "nbformat": 4,
  "nbformat_minor": 0,
  "metadata": {
    "colab": {
      "name": "A-softmax_visual.ipynb",
      "provenance": [],
      "collapsed_sections": [],
      "authorship_tag": "ABX9TyPZbWTVF19lvetfeW1CtuzN",
      "include_colab_link": true
    },
    "kernelspec": {
      "name": "python3",
      "display_name": "Python 3"
    },
    "accelerator": "GPU"
  },
  "cells": [
    {
      "cell_type": "markdown",
      "metadata": {
        "id": "view-in-github",
        "colab_type": "text"
      },
      "source": [
        "<a href=\"https://colab.research.google.com/github/pjprathmesh/A-softmax/blob/master/A_softmax_visual.ipynb\" target=\"_parent\"><img src=\"https://colab.research.google.com/assets/colab-badge.svg\" alt=\"Open In Colab\"/></a>"
      ]
    },
    {
      "cell_type": "code",
      "metadata": {
        "id": "VESkyy1utdya",
        "colab_type": "code",
        "colab": {
          "base_uri": "https://localhost:8080/",
          "height": 363
        },
        "outputId": "37f3fc9c-743d-4707-e1a8-6f5eea120f36"
      },
      "source": [
        "!nvidia-smi"
      ],
      "execution_count": null,
      "outputs": [
        {
          "output_type": "stream",
          "text": [
            "Thu Aug  6 22:05:28 2020       \n",
            "+-----------------------------------------------------------------------------+\n",
            "| NVIDIA-SMI 450.57       Driver Version: 418.67       CUDA Version: 10.1     |\n",
            "|-------------------------------+----------------------+----------------------+\n",
            "| GPU  Name        Persistence-M| Bus-Id        Disp.A | Volatile Uncorr. ECC |\n",
            "| Fan  Temp  Perf  Pwr:Usage/Cap|         Memory-Usage | GPU-Util  Compute M. |\n",
            "|                               |                      |               MIG M. |\n",
            "|===============================+======================+======================|\n",
            "|   0  Tesla T4            Off  | 00000000:00:04.0 Off |                    0 |\n",
            "| N/A   55C    P8    10W /  70W |      0MiB / 15079MiB |      0%      Default |\n",
            "|                               |                      |                 ERR! |\n",
            "+-------------------------------+----------------------+----------------------+\n",
            "                                                                               \n",
            "+-----------------------------------------------------------------------------+\n",
            "| Processes:                                                                  |\n",
            "|  GPU   GI   CI        PID   Type   Process name                  GPU Memory |\n",
            "|        ID   ID                                                   Usage      |\n",
            "|=============================================================================|\n",
            "|  No running processes found                                                 |\n",
            "+-----------------------------------------------------------------------------+\n"
          ],
          "name": "stdout"
        }
      ]
    },
    {
      "cell_type": "code",
      "metadata": {
        "id": "_8eJ_LSltMEt",
        "colab_type": "code",
        "colab": {
          "base_uri": "https://localhost:8080/",
          "height": 301
        },
        "outputId": "dd5d4254-2cf6-4fcf-85ee-fbdaa70d8ab2"
      },
      "source": [
        "import keras\n",
        "import tensorflow as tf\n",
        "from keras.datasets import mnist\n",
        "from keras.models import Sequential,Model\n",
        "from keras.layers import Conv2D,MaxPooling2D,Dropout,Flatten,Dense,Input\n",
        "#load mnist dataset\n",
        "(X_train, y_train), (X_test, y_test) = mnist.load_data()\n",
        "ya=y_train.copy()\n",
        "\n",
        "import matplotlib.pyplot as plt\n",
        "import numpy as np\n",
        "fig = plt.figure()\n",
        "for i in range(9):\n",
        "  plt.subplot(3,3,i+1)\n",
        "  plt.tight_layout()\n",
        "  plt.imshow(X_train[i], cmap='gray', interpolation='none')\n",
        "  plt.title(\"Digit: {}\".format(y_train[i]))\n",
        "  plt.xticks([])\n",
        "  plt.yticks([])\n",
        "\n",
        "input_shape = ( 28, 28, 1)\n",
        "\n",
        "\n",
        "X_train = X_train.reshape(X_train.shape[0], 28, 28, 1)/255.\n",
        "X_test = X_test.reshape(X_test.shape[0], 28, 28, 1)/255.\n",
        "y_train=y_train.astype(np.int64)\n",
        "y_test=y_test.astype(np.int64)\n",
        "dataset=tf.data.Dataset.from_tensor_slices((X_train,y_train)).batch(100).shuffle(1000, reshuffle_each_iteration=True)\n",
        "X_test.shape"
      ],
      "execution_count": null,
      "outputs": [
        {
          "output_type": "execute_result",
          "data": {
            "text/plain": [
              "(10000, 28, 28, 1)"
            ]
          },
          "metadata": {
            "tags": []
          },
          "execution_count": 1
        },
        {
          "output_type": "display_data",
          "data": {
            "image/png": "[encoded data removed]",
            "text/plain": [
              "<Figure size 432x288 with 9 Axes>"
            ]
          },
          "metadata": {
            "tags": []
          }
        }
      ]
    },
    {
      "cell_type": "code",
      "metadata": {
        "id": "nSZl3vFLqOqi",
        "colab_type": "code",
        "colab": {}
      },
      "source": [
        "class MyDence(tf.keras.layers.Layer):\n",
        "  def __init__(self,num_outputs):\n",
        "    super(MyDence,self).__init__()\n",
        "    self.out=num_outputs\n",
        "\n",
        "  def build(self,input_shape):\n",
        "    self.kernel=self.add_weight(shape=[self.out,input_shape[-1]],initializer='glorot_normal', trainable=True,)\n",
        "    # self.kernel=tf.Variable(tf.random.normal([self.out,input_shape[-1]]),i)\n",
        "\n",
        "  def call(self,input):\n",
        "    xw=tf.matmul(input,tf.transpose(self.kernel))\n",
        "    w_norm = tf.norm(self.kernel, axis = 1) + 1e-8\n",
        "    logits = xw/w_norm\n",
        "    return logits\n",
        "layer=MyDence(10) "
      ],
      "execution_count": null,
      "outputs": []
    },
    {
      "cell_type": "code",
      "metadata": {
        "id": "4br3Scj0tieG",
        "colab_type": "code",
        "colab": {
          "base_uri": "https://localhost:8080/",
          "height": 536
        },
        "outputId": "d47da8ab-c73f-4538-9489-5ac278bb88e3"
      },
      "source": [
        "num_category = 10\n",
        "\n",
        "\n",
        "inp=Input(input_shape)\n",
        "x=Conv2D(32, kernel_size=(3, 3),\n",
        "                 activation='relu',\n",
        "                 input_shape=input_shape,)(inp)\n",
        "x=Conv2D(32, kernel_size=(5, 5),\n",
        "                 activation='relu',\n",
        "                 input_shape=input_shape,)(inp)\n",
        "x=MaxPooling2D(pool_size=(2, 2))(x)\n",
        "\n",
        "x=Conv2D(64, kernel_size=(3, 3),\n",
        "                 activation='relu',\n",
        "                 input_shape=input_shape,)(inp)\n",
        "x=Conv2D(64, kernel_size=(3, 3),\n",
        "                 activation='relu',\n",
        "                 input_shape=input_shape,)(x)\n",
        "x=MaxPooling2D(pool_size=(2, 2))(x)\n",
        "\n",
        "\n",
        "x=Conv2D(128, kernel_size=(3, 3),\n",
        "                 activation='relu',\n",
        "                 input_shape=input_shape,)(x)\n",
        "x=Conv2D(128, kernel_size=(3, 3),\n",
        "                 activation='relu',\n",
        "                 input_shape=input_shape,)(x)\n",
        "x=MaxPooling2D(pool_size=(2, 2))(x)\n",
        "\n",
        "x=Flatten()(x)\n",
        "x=Dense(128, activation='relu',)(x)\n",
        "x1=Dense(2,use_bias=False,)(x)\n",
        "x=layer(x1)\n",
        "\n",
        "model=Model(inp,[x,x1])\n",
        "model.summary()"
      ],
      "execution_count": null,
      "outputs": [
        {
          "output_type": "stream",
          "text": [
            "Model: \"functional_1\"\n",
            "_________________________________________________________________\n",
            "Layer (type)                 Output Shape              Param #   \n",
            "=================================================================\n",
            "input_1 (InputLayer)         [(None, 28, 28, 1)]       0         \n",
            "_________________________________________________________________\n",
            "conv2d_2 (Conv2D)            (None, 26, 26, 64)        640       \n",
            "_________________________________________________________________\n",
            "conv2d_3 (Conv2D)            (None, 24, 24, 64)        36928     \n",
            "_________________________________________________________________\n",
            "max_pooling2d_1 (MaxPooling2 (None, 12, 12, 64)        0         \n",
            "_________________________________________________________________\n",
            "conv2d_4 (Conv2D)            (None, 10, 10, 128)       73856     \n",
            "_________________________________________________________________\n",
            "conv2d_5 (Conv2D)            (None, 8, 8, 128)         147584    \n",
            "_________________________________________________________________\n",
            "max_pooling2d_2 (MaxPooling2 (None, 4, 4, 128)         0         \n",
            "_________________________________________________________________\n",
            "flatten (Flatten)            (None, 2048)              0         \n",
            "_________________________________________________________________\n",
            "dense (Dense)                (None, 128)               262272    \n",
            "_________________________________________________________________\n",
            "dense_1 (Dense)              (None, 2)                 256       \n",
            "_________________________________________________________________\n",
            "my_dence (MyDence)           (None, 10)                20        \n",
            "=================================================================\n",
            "Total params: 521,556\n",
            "Trainable params: 521,556\n",
            "Non-trainable params: 0\n",
            "_________________________________________________________________\n"
          ],
          "name": "stdout"
        }
      ]
    },
    {
      "cell_type": "code",
      "metadata": {
        "id": "6YJlbBFX6Af_",
        "colab_type": "code",
        "colab": {
          "base_uri": "https://localhost:8080/",
          "height": 1000
        },
        "outputId": "5c25fcd8-bf6b-4872-fee3-e4393971e8e1"
      },
      "source": [
        "from sklearn.metrics import accuracy_score\n",
        "\n",
        "epochs = 30\n",
        "eps = 1e-8\n",
        "batch_size = 100\n",
        "scce = tf.keras.losses.SparseCategoricalCrossentropy(from_logits=True)\n",
        "optimizer =tf.keras.optimizers.Adam(0.0001)\n",
        "for epoch in range(epochs):\n",
        "  for step, (x_batch_train, y) in enumerate(dataset):\n",
        "    with tf.GradientTape() as tape:\n",
        "\n",
        "            o = model(x_batch_train, training=True)\n",
        "            logits=o[0]\n",
        "            x=o[1]\n",
        "    \n",
        "            \n",
        "            ordinal = tf.constant(list(range(0, y.get_shape()[0])), tf.int64)\n",
        "            ordinal_y = tf.stack([ordinal, y], axis = 1)\n",
        "            x_norm = tf.norm(x, axis = 1) + eps\n",
        "            sel_logits = tf.gather_nd(logits, ordinal_y)\n",
        "            cos_th = sel_logits/x_norm\n",
        "\n",
        "            cos_th2 = tf.square(cos_th)\n",
        "            cos_th4 = tf.pow(cos_th, 4)\n",
        "            sign0 = tf.sign(cos_th)\n",
        "            sign3 = tf.multiply(tf.sign(2*cos_th2 - 1), sign0)\n",
        "            sign4 = 2*sign0 + sign3 - 3\n",
        "            res = sign3*(8*cos_th4 - 8*cos_th2 + 1) + sign4\n",
        "            scaled_logits = tf.multiply(res, x_norm)\n",
        "            \n",
        "            comb_logits_diff = tf.add(logits, tf.scatter_nd(ordinal_y, tf.subtract(scaled_logits, sel_logits), logits.get_shape()))\n",
        "            \n",
        "            loss_value =scce(y, comb_logits_diff)\n",
        "            # print(logits,res)\n",
        "            # print(loss_value)\n",
        "           \n",
        "    grads = tape.gradient(loss_value, model.trainable_weights)\n",
        "    optimizer.apply_gradients(zip(grads, model.trainable_weights))\n",
        "          \n",
        "\n",
        "\n",
        "\n",
        "  if epoch%1==0:\n",
        " \n",
        "    logits = model(X_test, training=False)  \n",
        "\n",
        "    \n",
        "   \n",
        "    # ordinal = tf.constant(list(range(0, 10000)), tf.int64)\n",
        "    # ordinal_y = tf.stack([ordinal, y], axis = 1)\n",
        "    # x_norm = tf.norm(X_test, axis = 1) + eps\n",
        "    # sel_logits = tf.gather_nd(logits, ordinal_y)\n",
        "    # cos_th = sel_logits/x_norm\n",
        "\n",
        "    # cos_th2 = tf.square(cos_th)\n",
        "    # cos_th4 = tf.pow(cos_th, 4)\n",
        "    # sign0 = tf.sign(cos_th)\n",
        "    # sign3 = tf.multiply(tf.sign(2*cos_th2 - 1), sign0)\n",
        "    # sign4 = 2*sign0 + sign3 - 3\n",
        "    # res = sign3*(8*cos_th4 - 8*cos_th2 + 1) + sign4\n",
        "    # scaled_logits = tf.multiply(res, x_norm)\n",
        "    \n",
        "    # comb_logits_diff = tf.add(logits, tf.scatter_nd(ordinal_y, tf.subtract(scaled_logits, sel_logits), logits.get_shape()))\n",
        "    soft=tf.nn.softmax(logits[0])\n",
        "    loss_value =scce(y_test, logits[0]).numpy()\n",
        "    out=tf.math.argmax(soft,axis=1)\n",
        "    test=accuracy_score(y_test, out)\n",
        "    print(\"test acc \"+str(test)+\" test loss \"+str(loss_value))\n",
        "  \n",
        "            \n",
        "            \n",
        "\n",
        "\n",
        "\n",
        "\n",
        "    \n",
        "  \n",
        "  print(\"epoch : \"+ str(epoch)+\" loss : \"+str(loss_value))\n",
        "  print()"
      ],
      "execution_count": null,
      "outputs": [
        {
          "output_type": "stream",
          "text": [
            "test acc 0.724 test loss 1.099696\n",
            "epoch : 0 loss : 1.099696\n",
            "\n",
            "test acc 0.8302 test loss 0.8367416\n",
            "epoch : 1 loss : 0.8367416\n",
            "\n",
            "test acc 0.8623 test loss 0.6936527\n",
            "epoch : 2 loss : 0.6936527\n",
            "\n",
            "test acc 0.9469 test loss 0.50220126\n",
            "epoch : 3 loss : 0.50220126\n",
            "\n",
            "test acc 0.9557 test loss 0.399468\n",
            "epoch : 4 loss : 0.399468\n",
            "\n",
            "test acc 0.9644 test loss 0.2999533\n",
            "epoch : 5 loss : 0.2999533\n",
            "\n",
            "test acc 0.9751 test loss 0.24229228\n",
            "epoch : 6 loss : 0.24229228\n",
            "\n",
            "test acc 0.9752 test loss 0.21400337\n",
            "epoch : 7 loss : 0.21400337\n",
            "\n",
            "test acc 0.9792 test loss 0.18958372\n",
            "epoch : 8 loss : 0.18958372\n",
            "\n",
            "test acc 0.9801 test loss 0.16400558\n",
            "epoch : 9 loss : 0.16400558\n",
            "\n",
            "test acc 0.9817 test loss 0.14779693\n",
            "epoch : 10 loss : 0.14779693\n",
            "\n",
            "test acc 0.9829 test loss 0.13549931\n",
            "epoch : 11 loss : 0.13549931\n",
            "\n",
            "test acc 0.9824 test loss 0.12547694\n",
            "epoch : 12 loss : 0.12547694\n",
            "\n",
            "test acc 0.9809 test loss 0.12304257\n",
            "epoch : 13 loss : 0.12304257\n",
            "\n",
            "test acc 0.9838 test loss 0.10841431\n",
            "epoch : 14 loss : 0.10841431\n",
            "\n",
            "test acc 0.9846 test loss 0.10063324\n",
            "epoch : 15 loss : 0.10063324\n",
            "\n",
            "test acc 0.9847 test loss 0.101911545\n",
            "epoch : 16 loss : 0.101911545\n",
            "\n",
            "test acc 0.9846 test loss 0.100680806\n",
            "epoch : 17 loss : 0.100680806\n",
            "\n",
            "test acc 0.9861 test loss 0.092491604\n",
            "epoch : 18 loss : 0.092491604\n",
            "\n",
            "test acc 0.9867 test loss 0.08578772\n",
            "epoch : 19 loss : 0.08578772\n",
            "\n",
            "test acc 0.9857 test loss 0.08679259\n",
            "epoch : 20 loss : 0.08679259\n",
            "\n",
            "test acc 0.9863 test loss 0.08015662\n",
            "epoch : 21 loss : 0.08015662\n",
            "\n",
            "test acc 0.9869 test loss 0.082751244\n",
            "epoch : 22 loss : 0.082751244\n",
            "\n",
            "test acc 0.9871 test loss 0.07728042\n",
            "epoch : 23 loss : 0.07728042\n",
            "\n",
            "test acc 0.9887 test loss 0.07881537\n",
            "epoch : 24 loss : 0.07881537\n",
            "\n",
            "test acc 0.9866 test loss 0.08007729\n",
            "epoch : 25 loss : 0.08007729\n",
            "\n",
            "test acc 0.987 test loss 0.07435937\n",
            "epoch : 26 loss : 0.07435937\n",
            "\n",
            "test acc 0.9872 test loss 0.07469648\n",
            "epoch : 27 loss : 0.07469648\n",
            "\n",
            "test acc 0.9866 test loss 0.07769054\n",
            "epoch : 28 loss : 0.07769054\n",
            "\n",
            "test acc 0.9889 test loss 0.077717975\n",
            "epoch : 29 loss : 0.077717975\n",
            "\n"
          ],
          "name": "stdout"
        }
      ]
    },
    {
      "cell_type": "code",
      "metadata": {
        "id": "3UYOEbesLLUn",
        "colab_type": "code",
        "colab": {
          "base_uri": "https://localhost:8080/",
          "height": 282
        },
        "outputId": "003533ab-1cb9-4962-a926-1234cdb8278f"
      },
      "source": [
        "model2=Model(model.input,model.layers[-1].output)\n",
        "h=model2.predict(X_train[:])\n",
        "plt.scatter(h[:,0],h[:,1],c=ya,s=5)\n",
        "h.shape,ya.shape"
      ],
      "execution_count": null,
      "outputs": [
        {
          "output_type": "execute_result",
          "data": {
            "text/plain": [
              "((60000, 10), (60000,))"
            ]
          },
          "metadata": {
            "tags": []
          },
          "execution_count": 5
        },
        {
          "output_type": "display_data",
          "data": {
            "image/png": "[encoded data removed]",
            "text/plain": [
              "<Figure size 432x288 with 1 Axes>"
            ]
          },
          "metadata": {
            "tags": [],
            "needs_background": "light"
          }
        }
      ]
    }
  ]
}